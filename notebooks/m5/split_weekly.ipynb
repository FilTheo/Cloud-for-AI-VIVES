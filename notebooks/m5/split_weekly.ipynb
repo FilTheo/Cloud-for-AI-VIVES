{
 "cells": [
  {
   "cell_type": "code",
   "execution_count": 2,
   "metadata": {},
   "outputs": [],
   "source": [
    "import pandas as pd"
   ]
  },
  {
   "cell_type": "code",
   "execution_count": 11,
   "metadata": {},
   "outputs": [
    {
     "data": {
      "text/html": [
       "<div>\n",
       "<style scoped>\n",
       "    .dataframe tbody tr th:only-of-type {\n",
       "        vertical-align: middle;\n",
       "    }\n",
       "\n",
       "    .dataframe tbody tr th {\n",
       "        vertical-align: top;\n",
       "    }\n",
       "\n",
       "    .dataframe thead th {\n",
       "        text-align: right;\n",
       "    }\n",
       "</style>\n",
       "<table border=\"1\" class=\"dataframe\">\n",
       "  <thead>\n",
       "    <tr style=\"text-align: right;\">\n",
       "      <th></th>\n",
       "      <th>unique_id</th>\n",
       "      <th>date</th>\n",
       "      <th>y</th>\n",
       "      <th>sell_price</th>\n",
       "      <th>event_type_1</th>\n",
       "      <th>event_type_2</th>\n",
       "      <th>snap</th>\n",
       "    </tr>\n",
       "  </thead>\n",
       "  <tbody>\n",
       "    <tr>\n",
       "      <th>0</th>\n",
       "      <td>FOODS_1_001</td>\n",
       "      <td>2016-02-29</td>\n",
       "      <td>1</td>\n",
       "      <td>2.24</td>\n",
       "      <td>NaN</td>\n",
       "      <td>NaN</td>\n",
       "      <td>0.0</td>\n",
       "    </tr>\n",
       "    <tr>\n",
       "      <th>1</th>\n",
       "      <td>FOODS_1_002</td>\n",
       "      <td>2016-02-29</td>\n",
       "      <td>0</td>\n",
       "      <td>9.48</td>\n",
       "      <td>NaN</td>\n",
       "      <td>NaN</td>\n",
       "      <td>0.0</td>\n",
       "    </tr>\n",
       "    <tr>\n",
       "      <th>2</th>\n",
       "      <td>FOODS_1_003</td>\n",
       "      <td>2016-02-29</td>\n",
       "      <td>0</td>\n",
       "      <td>3.23</td>\n",
       "      <td>NaN</td>\n",
       "      <td>NaN</td>\n",
       "      <td>0.0</td>\n",
       "    </tr>\n",
       "    <tr>\n",
       "      <th>3</th>\n",
       "      <td>FOODS_1_004</td>\n",
       "      <td>2016-02-29</td>\n",
       "      <td>0</td>\n",
       "      <td>1.96</td>\n",
       "      <td>NaN</td>\n",
       "      <td>NaN</td>\n",
       "      <td>0.0</td>\n",
       "    </tr>\n",
       "    <tr>\n",
       "      <th>4</th>\n",
       "      <td>FOODS_1_005</td>\n",
       "      <td>2016-02-29</td>\n",
       "      <td>0</td>\n",
       "      <td>3.54</td>\n",
       "      <td>NaN</td>\n",
       "      <td>NaN</td>\n",
       "      <td>0.0</td>\n",
       "    </tr>\n",
       "  </tbody>\n",
       "</table>\n",
       "</div>"
      ],
      "text/plain": [
       "     unique_id       date  y  sell_price event_type_1  event_type_2  snap\n",
       "0  FOODS_1_001 2016-02-29  1        2.24          NaN           NaN   0.0\n",
       "1  FOODS_1_002 2016-02-29  0        9.48          NaN           NaN   0.0\n",
       "2  FOODS_1_003 2016-02-29  0        3.23          NaN           NaN   0.0\n",
       "3  FOODS_1_004 2016-02-29  0        1.96          NaN           NaN   0.0\n",
       "4  FOODS_1_005 2016-02-29  0        3.54          NaN           NaN   0.0"
      ]
     },
     "execution_count": 11,
     "metadata": {},
     "output_type": "execute_result"
    }
   ],
   "source": [
    "path = '/home/filtheo/Cloud-for-AI-VIVES/data/m5_main/m5_validation_df.csv'\n",
    "test_df = pd.read_csv(path)\n",
    "test_df['date'] = pd.to_datetime(test_df['date'])\n",
    "test_df.head()"
   ]
  },
  {
   "cell_type": "code",
   "execution_count": 15,
   "metadata": {},
   "outputs": [],
   "source": [
    "dates = test_df['date'].unique()"
   ]
  },
  {
   "cell_type": "code",
   "execution_count": 63,
   "metadata": {},
   "outputs": [
    {
     "name": "stdout",
     "output_type": "stream",
     "text": [
      "7\n",
      "['2016-02-29T00:00:00.000000000' '2016-03-01T00:00:00.000000000'\n",
      " '2016-03-02T00:00:00.000000000' '2016-03-03T00:00:00.000000000'\n",
      " '2016-03-04T00:00:00.000000000' '2016-03-05T00:00:00.000000000'\n",
      " '2016-03-06T00:00:00.000000000']\n",
      "06032016\n",
      "14\n",
      "['2016-03-07T00:00:00.000000000' '2016-03-08T00:00:00.000000000'\n",
      " '2016-03-09T00:00:00.000000000' '2016-03-10T00:00:00.000000000'\n",
      " '2016-03-11T00:00:00.000000000' '2016-03-12T00:00:00.000000000'\n",
      " '2016-03-13T00:00:00.000000000']\n",
      "13032016\n",
      "21\n",
      "['2016-03-14T00:00:00.000000000' '2016-03-15T00:00:00.000000000'\n",
      " '2016-03-16T00:00:00.000000000' '2016-03-17T00:00:00.000000000'\n",
      " '2016-03-18T00:00:00.000000000' '2016-03-19T00:00:00.000000000'\n",
      " '2016-03-20T00:00:00.000000000']\n",
      "20032016\n",
      "28\n",
      "['2016-03-21T00:00:00.000000000' '2016-03-22T00:00:00.000000000'\n",
      " '2016-03-23T00:00:00.000000000' '2016-03-24T00:00:00.000000000'\n",
      " '2016-03-25T00:00:00.000000000' '2016-03-26T00:00:00.000000000'\n",
      " '2016-03-27T00:00:00.000000000']\n",
      "27032016\n",
      "35\n",
      "['2016-03-28T00:00:00.000000000' '2016-03-29T00:00:00.000000000'\n",
      " '2016-03-30T00:00:00.000000000' '2016-03-31T00:00:00.000000000'\n",
      " '2016-04-01T00:00:00.000000000' '2016-04-02T00:00:00.000000000'\n",
      " '2016-04-03T00:00:00.000000000']\n",
      "03042016\n",
      "42\n",
      "['2016-04-04T00:00:00.000000000' '2016-04-05T00:00:00.000000000'\n",
      " '2016-04-06T00:00:00.000000000' '2016-04-07T00:00:00.000000000'\n",
      " '2016-04-08T00:00:00.000000000' '2016-04-09T00:00:00.000000000'\n",
      " '2016-04-10T00:00:00.000000000']\n",
      "10042016\n",
      "49\n",
      "['2016-04-11T00:00:00.000000000' '2016-04-12T00:00:00.000000000'\n",
      " '2016-04-13T00:00:00.000000000' '2016-04-14T00:00:00.000000000'\n",
      " '2016-04-15T00:00:00.000000000' '2016-04-16T00:00:00.000000000'\n",
      " '2016-04-17T00:00:00.000000000']\n",
      "17042016\n",
      "56\n",
      "['2016-04-18T00:00:00.000000000' '2016-04-19T00:00:00.000000000'\n",
      " '2016-04-20T00:00:00.000000000' '2016-04-21T00:00:00.000000000'\n",
      " '2016-04-22T00:00:00.000000000' '2016-04-23T00:00:00.000000000'\n",
      " '2016-04-24T00:00:00.000000000']\n",
      "24042016\n"
     ]
    }
   ],
   "source": [
    "step = 7\n",
    "for i in range(step,len(dates) + step,step):\n",
    "    print(i)\n",
    "    current_dates = dates[i-step:i]\n",
    "    max_date = current_dates.max()\n",
    "    temp_df = test_df[test_df['date'].isin(current_dates)]\n",
    "    # convert format 2024-07-22 to 220724\n",
    "    max_date = ''.join(str(max_date)[:10].split('-')[::-1])\n",
    "    print(current_dates)\n",
    "    print(max_date)\n",
    "    temp_df.to_csv(f'/home/filtheo/Cloud-for-AI-VIVES/data/m5_main/data_updates/{max_date}.csv',index=False)"
   ]
  },
  {
   "cell_type": "code",
   "execution_count": 64,
   "metadata": {},
   "outputs": [
    {
     "name": "stderr",
     "output_type": "stream",
     "text": [
      "/tmp/ipykernel_1613/3443272912.py:2: DtypeWarning: Columns (5) have mixed types. Specify dtype option on import or set low_memory=False.\n",
      "  train_df = pd.read_csv(path)\n"
     ]
    },
    {
     "data": {
      "text/html": [
       "<div>\n",
       "<style scoped>\n",
       "    .dataframe tbody tr th:only-of-type {\n",
       "        vertical-align: middle;\n",
       "    }\n",
       "\n",
       "    .dataframe tbody tr th {\n",
       "        vertical-align: top;\n",
       "    }\n",
       "\n",
       "    .dataframe thead th {\n",
       "        text-align: right;\n",
       "    }\n",
       "</style>\n",
       "<table border=\"1\" class=\"dataframe\">\n",
       "  <thead>\n",
       "    <tr style=\"text-align: right;\">\n",
       "      <th></th>\n",
       "      <th>unique_id</th>\n",
       "      <th>date</th>\n",
       "      <th>y</th>\n",
       "      <th>sell_price</th>\n",
       "      <th>event_type_1</th>\n",
       "      <th>event_type_2</th>\n",
       "      <th>snap</th>\n",
       "    </tr>\n",
       "  </thead>\n",
       "  <tbody>\n",
       "    <tr>\n",
       "      <th>0</th>\n",
       "      <td>FOODS_1_001</td>\n",
       "      <td>2014-04-26</td>\n",
       "      <td>2</td>\n",
       "      <td>2.24</td>\n",
       "      <td>NaN</td>\n",
       "      <td>NaN</td>\n",
       "      <td>0.0</td>\n",
       "    </tr>\n",
       "    <tr>\n",
       "      <th>1</th>\n",
       "      <td>FOODS_1_002</td>\n",
       "      <td>2014-04-26</td>\n",
       "      <td>0</td>\n",
       "      <td>8.88</td>\n",
       "      <td>NaN</td>\n",
       "      <td>NaN</td>\n",
       "      <td>0.0</td>\n",
       "    </tr>\n",
       "    <tr>\n",
       "      <th>2</th>\n",
       "      <td>FOODS_1_003</td>\n",
       "      <td>2014-04-26</td>\n",
       "      <td>0</td>\n",
       "      <td>2.88</td>\n",
       "      <td>NaN</td>\n",
       "      <td>NaN</td>\n",
       "      <td>0.0</td>\n",
       "    </tr>\n",
       "    <tr>\n",
       "      <th>3</th>\n",
       "      <td>FOODS_1_004</td>\n",
       "      <td>2014-04-26</td>\n",
       "      <td>16</td>\n",
       "      <td>1.78</td>\n",
       "      <td>NaN</td>\n",
       "      <td>NaN</td>\n",
       "      <td>0.0</td>\n",
       "    </tr>\n",
       "    <tr>\n",
       "      <th>4</th>\n",
       "      <td>FOODS_1_005</td>\n",
       "      <td>2014-04-26</td>\n",
       "      <td>0</td>\n",
       "      <td>3.28</td>\n",
       "      <td>NaN</td>\n",
       "      <td>NaN</td>\n",
       "      <td>0.0</td>\n",
       "    </tr>\n",
       "  </tbody>\n",
       "</table>\n",
       "</div>"
      ],
      "text/plain": [
       "     unique_id       date   y  sell_price event_type_1 event_type_2  snap\n",
       "0  FOODS_1_001 2014-04-26   2        2.24          NaN          NaN   0.0\n",
       "1  FOODS_1_002 2014-04-26   0        8.88          NaN          NaN   0.0\n",
       "2  FOODS_1_003 2014-04-26   0        2.88          NaN          NaN   0.0\n",
       "3  FOODS_1_004 2014-04-26  16        1.78          NaN          NaN   0.0\n",
       "4  FOODS_1_005 2014-04-26   0        3.28          NaN          NaN   0.0"
      ]
     },
     "execution_count": 64,
     "metadata": {},
     "output_type": "execute_result"
    }
   ],
   "source": [
    "path = '/home/filtheo/Cloud-for-AI-VIVES/data/m5_main/m5_train_df.csv'\n",
    "train_df = pd.read_csv(path)\n",
    "train_df['date'] = pd.to_datetime(train_df['date'])\n",
    "train_df.head()"
   ]
  },
  {
   "cell_type": "code",
   "execution_count": 65,
   "metadata": {},
   "outputs": [
    {
     "data": {
      "text/plain": [
       "Timestamp('2016-02-28 00:00:00')"
      ]
     },
     "execution_count": 65,
     "metadata": {},
     "output_type": "execute_result"
    }
   ],
   "source": [
    "train_df['date'].max()"
   ]
  },
  {
   "cell_type": "code",
   "execution_count": 68,
   "metadata": {},
   "outputs": [
    {
     "data": {
      "text/plain": [
       "'28022016'"
      ]
     },
     "execution_count": 68,
     "metadata": {},
     "output_type": "execute_result"
    }
   ],
   "source": [
    "max_date = train_df['date'].max()\n",
    "max_date = ''.join(str(max_date)[:10].split('-')[::-1])\n",
    "max_date"
   ]
  },
  {
   "cell_type": "code",
   "execution_count": 70,
   "metadata": {},
   "outputs": [],
   "source": [
    "save_path = '/home/filtheo/Cloud-for-AI-VIVES/data/m5_main/data_updates/main_28022016.csv'\n",
    "train_df.to_csv(save_path,index=False)"
   ]
  }
 ],
 "metadata": {
  "kernelspec": {
   "display_name": ".venv",
   "language": "python",
   "name": "python3"
  },
  "language_info": {
   "codemirror_mode": {
    "name": "ipython",
    "version": 3
   },
   "file_extension": ".py",
   "mimetype": "text/x-python",
   "name": "python",
   "nbconvert_exporter": "python",
   "pygments_lexer": "ipython3",
   "version": "3.8.10"
  }
 },
 "nbformat": 4,
 "nbformat_minor": 2
}
